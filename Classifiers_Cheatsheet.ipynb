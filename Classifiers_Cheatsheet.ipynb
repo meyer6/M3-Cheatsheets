{
  "nbformat": 4,
  "nbformat_minor": 0,
  "metadata": {
    "colab": {
      "provenance": []
    },
    "kernelspec": {
      "name": "python3",
      "display_name": "Python 3"
    },
    "language_info": {
      "name": "python"
    }
  },
  "cells": [
    {
      "cell_type": "code",
      "execution_count": null,
      "metadata": {
        "id": "3L1aXxy97pA2"
      },
      "outputs": [],
      "source": [
        "# Defining libraries\n",
        "import numpy as np\n",
        "import matplotlib.pyplot as plt\n",
        "from scipy import stats\n",
        "import seaborn as sns; sns.set()\n",
        "from matplotlib.colors import ListedColormap\n",
        "from sklearn.inspection import DecisionBoundaryDisplay\n",
        "from sklearn import svm\n",
        "from sklearn.neighbors import KNeighborsClassifier\n",
        "from sklearn.tree import DecisionTreeClassifier\n",
        "from sklearn.datasets import make_blobs\n",
        "from sklearn.pipeline import make_pipeline, Pipeline\n",
        "from sklearn.preprocessing import StandardScaler"
      ]
    },
    {
      "cell_type": "code",
      "source": [
        "# Define data - Random for demonstration\n",
        "# x - Represents coordinates of all the points, y - represents the classes of the coordinates\n",
        "x, y = make_blobs(n_samples=50, centers=2,\n",
        "                  random_state=0, cluster_std=0.60)"
      ],
      "metadata": {
        "id": "kOfbYj2GYvPx"
      },
      "execution_count": null,
      "outputs": []
    },
    {
      "cell_type": "markdown",
      "source": [
        "# Support Vector Machines"
      ],
      "metadata": {
        "id": "w3cHdz9hNsiA"
      }
    },
    {
      "cell_type": "markdown",
      "source": [
        "*   **Brief Description** \\\\\n",
        "      Used to classify points \\\\\n",
        "      Draws a line/plane space to try to seperate and classify points\n",
        "\n",
        "*   **Kernel** \\\\\n",
        "      Augments/transforms the data (Usually by adding another dimension) \\\\\n",
        "      Draws the plane \\\\\n",
        "      Unaugments/untransforms (Kernel trick - method to do this) \\\\\n",
        "      **Linear Kernel** \\\\\n",
        "      **Polynomial Kernel** - Can distinguish curved or nonlinear input space \\\\\n",
        "      **Radial Basis Function(RBF) Kernel** - Can map an input space in infinite dimensional space (Takes in a parameter, gamma, ranges between 0-1, determines how closely it matches the training data, typically 0.1) \\\\\n",
        "\n",
        "*   **Advantages** \\\\\n",
        "      Good for a small training set \\\\\n",
        "      Effective in high dimensional spaces \\\\\n",
        "      Still effective in cases where number of dimensions is greater than the number of samples \n",
        "\n",
        "*   **Disadvantages** \\\\\n",
        "      Cannot classify some points - look at kernel for solution"
      ],
      "metadata": {
        "id": "vdmJpeVqNzCX"
      }
    },
    {
      "cell_type": "markdown",
      "source": [
        "Parameters for svm.SVC: https://scikit-learn.org/stable/modules/generated/sklearn.svm.SVC.html"
      ],
      "metadata": {
        "id": "v2oZidpbq8X5"
      }
    },
    {
      "cell_type": "code",
      "source": [
        "# Initializes the classifier\n",
        "clf = svm.SVC(kernel=\"linear\", C=0.025) # Linear"
      ],
      "metadata": {
        "id": "zMDdV411bg9E"
      },
      "execution_count": null,
      "outputs": []
    },
    {
      "cell_type": "code",
      "source": [
        "# Initializes the classifier\n",
        "clf = svm.SVC(kernel=\"rbf\", gamma=2, C=1) # RBF"
      ],
      "metadata": {
        "id": "6DAzciLAbgSd"
      },
      "execution_count": null,
      "outputs": []
    },
    {
      "cell_type": "markdown",
      "source": [
        "# K Nearest Neighbors"
      ],
      "metadata": {
        "id": "mPTKR9dunsjD"
      }
    },
    {
      "cell_type": "markdown",
      "source": [
        "Best video (2 mins): https://www.youtube.com/watch?v=0p0o5cmgLdE"
      ],
      "metadata": {
        "id": "H5YbFpmrqXw_"
      }
    },
    {
      "cell_type": "code",
      "source": [
        "# Initializes the classifier\n",
        "clf = KNeighborsClassifier(3) # Number of neighbors to use - too high(overfitting), too low(underfitting)"
      ],
      "metadata": {
        "id": "SDI57-itn0Vi"
      },
      "execution_count": null,
      "outputs": []
    },
    {
      "cell_type": "markdown",
      "source": [
        "# Decision Tree"
      ],
      "metadata": {
        "id": "IULDDTOurf3B"
      }
    },
    {
      "cell_type": "markdown",
      "source": [
        "Basically just a decision tree with x and y used to classify points \\\\\n",
        "Can potentially overfit"
      ],
      "metadata": {
        "id": "WFaCIYJ-tPUh"
      }
    },
    {
      "cell_type": "code",
      "source": [
        "# Initializes the classifier\n",
        "clf = DecisionTreeClassifier(max_depth=5)"
      ],
      "metadata": {
        "id": "HRvO-MiQtOyw"
      },
      "execution_count": null,
      "outputs": []
    },
    {
      "cell_type": "markdown",
      "source": [
        "# Creating and Visualizing the classifications"
      ],
      "metadata": {
        "id": "bxjQrwQNmoTD"
      }
    },
    {
      "cell_type": "code",
      "source": [
        "# Creates the classifier\n",
        "clf = make_pipeline(StandardScaler(), clf) # Makes it faster I think\n",
        "clf.fit(x, y)\n",
        "\n",
        "# Predicts class of new data - outputs class (number)\n",
        "pointClass = clf.predict([[2.5, 0]])[0] # xCoord, yCoord"
      ],
      "metadata": {
        "id": "3jaSdV0IcFIY"
      },
      "execution_count": null,
      "outputs": []
    },
    {
      "cell_type": "code",
      "source": [
        "# Plots data and boundaries to help visualise\n",
        "ax = plt.subplot(1, 1, 1)\n",
        "DecisionBoundaryDisplay.from_estimator(clf, x, ax=ax, cmap=plt.cm.RdBu, alpha=0.8, eps=0.5)\n",
        "ax.scatter(x[:, 0], x[:, 1], c=y, s=50, cmap=ListedColormap([\"#FF0000\", \"#0000FF\"]), edgecolors=\"k\");\n",
        "plt.axis('off')\n",
        "plt.show()"
      ],
      "metadata": {
        "colab": {
          "base_uri": "https://localhost:8080/"
        },
        "id": "mZvqQWxo73D_",
        "outputId": "84f1a9a5-1be2-4d78-8e07-2723b42f2e18"
      },
      "execution_count": null,
      "outputs": [
        {
          "output_type": "display_data",
          "data": {
            "text/plain": [
              "<Figure size 432x288 with 1 Axes>"
            ],
            "image/png": "[encoded data removed]"
          },
          "metadata": {}
        }
      ]
    },
    {
      "cell_type": "markdown",
      "source": [
        "# 3D Model Example"
      ],
      "metadata": {
        "id": "tM7V5nk_eNBd"
      }
    },
    {
      "cell_type": "code",
      "source": [
        "x, y = make_blobs(n_samples=50, centers=3,\n",
        "                  random_state=0, cluster_std=0.60, n_features=3) # Change n_features to match number of dimensions"
      ],
      "metadata": {
        "id": "iffxLBkXdcZM"
      },
      "execution_count": null,
      "outputs": []
    },
    {
      "cell_type": "code",
      "source": [
        "clf = svm.SVC(kernel=\"rbf\", gamma=2, C=1)"
      ],
      "metadata": {
        "id": "u8HCmUyddhau"
      },
      "execution_count": null,
      "outputs": []
    },
    {
      "cell_type": "code",
      "source": [
        "clf = make_pipeline(StandardScaler(), clf) \n",
        "clf.fit(x, y)\n",
        "\n",
        "pointClass = clf.predict([[2.5, 0, 2.5]])[0] # When you want to fit a new coordinate it must have n inputs"
      ],
      "metadata": {
        "id": "AIMoI41WdoyT"
      },
      "execution_count": null,
      "outputs": []
    }
  ]
}